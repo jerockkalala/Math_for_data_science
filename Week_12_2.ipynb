{
 "cells": [
  {
   "cell_type": "markdown",
   "source": [
    "### Title: Exercice 12.2\n",
    "### Author: Jerock Kalala\n",
    "### Date: November 16th 2022\n",
    "### Professor: Dr. Brett Werner\n",
    "### Bayesian Statistics and Information Theory"
   ],
   "metadata": {
    "collapsed": false,
    "pycharm": {
     "name": "#%% md\n"
    }
   }
  },
  {
   "cell_type": "markdown",
   "source": [
    "##### 1. Calculating Probabilities using Bayes’ Theorem"
   ],
   "metadata": {
    "collapsed": false,
    "pycharm": {
     "name": "#%% md\n"
    }
   }
  },
  {
   "cell_type": "markdown",
   "source": [
    "(a) If a randomly chosen graphics card is defective, what is the probability it was manufactured using Process A?"
   ],
   "metadata": {
    "collapsed": false,
    "pycharm": {
     "name": "#%% md\n"
    }
   }
  },
  {
   "cell_type": "code",
   "execution_count": 13,
   "outputs": [
    {
     "name": "stdout",
     "output_type": "stream",
     "text": [
      "If a randomly chosen graphics card is defective, its probability it was manufactured using Process A is:  0.5172413793103449\n",
      "or 0.517\n"
     ]
    }
   ],
   "source": [
    "pa = (0.5 * 0.03)/((0.5*0.03)+(0.3*0.02)+(0.2*0.04))\n",
    "print(\"If a randomly chosen graphics card is defective, its probability it was manufactured using Process A is: \", pa)\n",
    "print(\"or %.3f\" % pa) #round to four decimal places"
   ],
   "metadata": {
    "collapsed": false,
    "pycharm": {
     "name": "#%%\n"
    }
   }
  },
  {
   "cell_type": "markdown",
   "source": [
    "(b) If a randomly chosen graphics card is not defective, what is the probability it was manufactured using Process C?"
   ],
   "metadata": {
    "collapsed": false,
    "pycharm": {
     "name": "#%% md\n"
    }
   }
  },
  {
   "cell_type": "code",
   "execution_count": 14,
   "outputs": [
    {
     "name": "stdout",
     "output_type": "stream",
     "text": [
      "If a randomly chosen graphics card is not defective, its probability it was manufactured using Process C is : 0.1977342945417096\n",
      "or 0.198\n"
     ]
    }
   ],
   "source": [
    "pc = (0.2 * 0.96)/((0.5*0.97)+(0.3*0.98)+(0.2*0.96))\n",
    "print(\"If a randomly chosen graphics card is not defective, its probability it was manufactured using Process C is :\", pc)\n",
    "print(\"or %.3f\" % pc) #round to four decimal places"
   ],
   "metadata": {
    "collapsed": false,
    "pycharm": {
     "name": "#%%\n"
    }
   }
  },
  {
   "cell_type": "markdown",
   "source": [
    "##### 2. Entropy Function for a Probability Distribution"
   ],
   "metadata": {
    "collapsed": false,
    "pycharm": {
     "name": "#%% md\n"
    }
   }
  },
  {
   "cell_type": "code",
   "execution_count": 15,
   "outputs": [],
   "source": [
    "import numpy as np\n",
    "\n",
    "# entropy function for a probability distribution\n",
    "def entropy(prob_arr):\n",
    "    n = len(prob_arr)\n",
    "    # each element in prob_arr is a probability from a discrete\n",
    "    # probability distribution with n possible outcomes\n",
    "    hx = 0\n",
    "    for i in range(n):\n",
    "        hx -= prob_arr[i] * np.log2(prob_arr[i])\n",
    "    return hx"
   ],
   "metadata": {
    "collapsed": false,
    "pycharm": {
     "name": "#%%\n"
    }
   }
  },
  {
   "cell_type": "markdown",
   "source": [
    "##### 3. Calculating Entropies of Probability Distributions"
   ],
   "metadata": {
    "collapsed": false,
    "pycharm": {
     "name": "#%% md\n"
    }
   }
  },
  {
   "cell_type": "markdown",
   "source": [
    "(a) Use the function you created in the previous problem to calculate the entropies of X and Y ."
   ],
   "metadata": {
    "collapsed": false,
    "pycharm": {
     "name": "#%% md\n"
    }
   }
  },
  {
   "cell_type": "code",
   "execution_count": 20,
   "outputs": [
    {
     "name": "stdout",
     "output_type": "stream",
     "text": [
      "The entropy of X is:  2.321928094887362\n",
      "\n",
      "The entropy of X is:  2.046439344671015\n"
     ]
    }
   ],
   "source": [
    "X = np.array([0.2, 0.2, 0.2, 0.2, 0.2])\n",
    "Y = np.array([0.1, 0.4, 0.1, 0.3, 0.1])\n",
    "print(\"The entropy of X is: \", entropy(X))\n",
    "print(\"\\nThe entropy of X is: \", entropy(Y))\n"
   ],
   "metadata": {
    "collapsed": false,
    "pycharm": {
     "name": "#%%\n"
    }
   }
  },
  {
   "cell_type": "markdown",
   "source": [
    "(b) Compare the two values found in part (a). Which one is bigger? Explain intuitively why this is the case."
   ],
   "metadata": {
    "collapsed": false,
    "pycharm": {
     "name": "#%% md\n"
    }
   }
  },
  {
   "cell_type": "code",
   "execution_count": null,
   "outputs": [],
   "source": [
    "print(\"X is bigger because it has higher entropy\")"
   ],
   "metadata": {
    "collapsed": false,
    "pycharm": {
     "name": "#%%\n"
    }
   }
  }
 ],
 "metadata": {
  "kernelspec": {
   "display_name": "Python 3",
   "language": "python",
   "name": "python3"
  },
  "language_info": {
   "codemirror_mode": {
    "name": "ipython",
    "version": 2
   },
   "file_extension": ".py",
   "mimetype": "text/x-python",
   "name": "python",
   "nbconvert_exporter": "python",
   "pygments_lexer": "ipython2",
   "version": "2.7.6"
  }
 },
 "nbformat": 4,
 "nbformat_minor": 0
}