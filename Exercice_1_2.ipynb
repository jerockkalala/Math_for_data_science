{
 "cells": [
  {
   "cell_type": "markdown",
   "id": "0d4f5133",
   "metadata": {},
   "source": [
    "## Title: Exercice 1.2\n",
    "## Author: Jerock Kalala\n",
    "## Date: September 6th 2022\n",
    "## Modified By: --\n",
    "## Mathematical and Python Functions"
   ]
  },
  {
   "cell_type": "markdown",
   "id": "cd29a092",
   "metadata": {},
   "source": [
    "#### 1a. Create a function that takes in two numerical arrays of the same length (think about one array as actual values and the other as predicted values) and calculates the RMSE between them."
   ]
  },
  {
   "cell_type": "code",
   "execution_count": null,
   "id": "094c235f",
   "metadata": {
    "scrolled": true
   },
   "outputs": [],
   "source": [
    "from math import sqrt\n",
    "import pandas as pd\n",
    "import numpy as np\n",
    "from sklearn.metrics import mean_squared_error\n",
    "\n",
    "# \n",
    "def RMSE(actual_val, pred_val):\n",
    "  # find the lengths\n",
    "  n1 = len(actual_val)\n",
    "  n2 = len(pred_val)\n",
    "  # check if the length of two arrays is same\n",
    "  if n1 != n2:\n",
    "    raise 'len(actual_val) != len(pred_val)'\n",
    "  n = n1\n",
    "  # (actual_val-pred_val) will generate a new array with component actual_val[i] - pred_val[i]\n",
    "  # np.pow(actual_val - pred_val, 2) will find (actual_val-[i] - pred_val[i])^2\n",
    "  # np.sum will take sum of all those squares\n",
    "  # np.sqrt will find square root of the sum of squares divided by n\n",
    "  return np.sqrt((1/n)*np.sum(np.power(actual_val - pred_val, 2)))"
   ]
  },
  {
   "cell_type": "code",
   "execution_count": 16,
   "id": "fa65b67e-7ab6-4126-b5be-b3985fb06b8f",
   "metadata": {},
   "outputs": [
    {
     "name": "stdout",
     "output_type": "stream",
     "text": [
      "The Square Mean Squared Error RMSE is:  3.0222508168581905\n"
     ]
    }
   ],
   "source": [
    "actual_val = [5, 6, 1, 7, 3]\n",
    "pred_val = [2.4, 1.5, 1.4, 2.7, 3.1]\n",
    "sum_v = 0\n",
    "n = len(actual_val)\n",
    "#loop in the colunm\n",
    "for i in range (0, n):\n",
    "  diff_v = actual_val[i] - pred_val[i]\n",
    "  squared_diff_v = diff_v**2\n",
    "  sum_v = sum_v + squared_diff_v\n",
    "MSE = sum_v/n\n",
    "#calculate the Root Mean Squared Error \n",
    "RMSE1 = sqrt(MSE)\n",
    "\n",
    "#print(\"The Root Mean Squared Error is: \", rmse)\n",
    "print(\"The Square Mean Squared Error RMSE is: \", RMSE1)"
   ]
  },
  {
   "cell_type": "markdown",
   "id": "1957b334",
   "metadata": {},
   "source": [
    "#### 1b. Apply your RMSE function to the columns “sale price” and “sale price pred” in the file housing data.csv. file and report your result. The sale price has been predicted from the square footage of the house."
   ]
  },
  {
   "cell_type": "code",
   "execution_count": 7,
   "id": "1b244fb7-cc9e-4d6a-bee5-e6a8df24bb69",
   "metadata": {},
   "outputs": [
    {
     "name": "stdout",
     "output_type": "stream",
     "text": [
      "The Root Mean Squared Error is:  55064.0688338987\n"
     ]
    }
   ],
   "source": [
    "#importing panda module\n",
    "import pandas as pd\n",
    "import numpy as np\n",
    "from sklearn.metrics import mean_squared_error\n",
    "\n",
    "\n",
    "#get the location of the file\n",
    "floc = \"E:\\Bellevue\\Fall_2022\\DSC_320_Math for Data Science\\Week_1\\week1data\\housing.xlsx\"\n",
    "#read specific columns of a excel file\n",
    "df1 = pd.read_excel(floc, usecols = ['sale_price'])\n",
    "df2 = pd.read_excel(floc, usecols = ['sale_price_pred'])\n",
    "\n",
    "rms = sqrt(mean_squared_error(df1, df2))\n",
    "print(\"The Root Mean Squared Error is: \", rms)"
   ]
  },
  {
   "cell_type": "markdown",
   "id": "488c4632",
   "metadata": {},
   "source": [
    "#### 2.(a) Repeat problem (1a) above with MAE."
   ]
  },
  {
   "cell_type": "code",
   "execution_count": 8,
   "id": "98729a7e-760c-4c50-8779-3fd8bef35f93",
   "metadata": {},
   "outputs": [
    {
     "name": "stdout",
     "output_type": "stream",
     "text": [
      "The Mean Absolute Error is:  9.133999999999999\n"
     ]
    }
   ],
   "source": [
    "actual_val = [5, 6, 1, 7, 3]\n",
    "pred_val = [2.4, 1.5, 1.4, 2.7, 3.1]\n",
    "sum_v = 0\n",
    "\n",
    "#get the number of value\n",
    "n = len(actual_val)\n",
    "for i in range (0, n):\n",
    "  diff_v = actual_val[i] - pred_val[i]\n",
    "  squared_diff_v = diff_v**2\n",
    "  sum_v = sum_v + squared_diff_v\n",
    "MAE = sum_v/n\n",
    "print(\"The Mean Absolute Error is: \", MAE)"
   ]
  },
  {
   "cell_type": "markdown",
   "id": "de0ee065",
   "metadata": {},
   "source": [
    "#### 2.(b) Repeat problem (1b) above with MAE."
   ]
  },
  {
   "cell_type": "code",
   "execution_count": 43,
   "id": "7c5a1316-9934-4cd3-b9c2-dd87a36cf07f",
   "metadata": {},
   "outputs": [
    {
     "name": "stdout",
     "output_type": "stream",
     "text": [
      "The Root Mean Squared Error is:  37438.68916270548\n"
     ]
    }
   ],
   "source": [
    "#importing panda module\n",
    "from sklearn.metrics import mean_absolute_error\n",
    "#read specific columns of a excel file\n",
    "floc = \"E:\\Bellevue\\Fall_2022\\DSC_320_Math for Data Science\\Week_1\\week1data\\housing.xlsx\"\n",
    "df1 = pd.read_excel(floc, usecols = ['sale_price'])\n",
    "df2 = pd.read_excel(floc, usecols = ['sale_price_pred'])\n",
    "\n",
    "#calculate MAE\n",
    "m_error = mean_absolute_error(df1, df2)\n",
    "print(\"The Root Mean Squared Error is: \", m_error)"
   ]
  },
  {
   "cell_type": "markdown",
   "id": "c28d7663",
   "metadata": {},
   "source": [
    "#### 3.(a) Build a function that takes in two binary arrays of the same length, where one is actual values and the other predicted values, that calculates the prediction accuracy."
   ]
  },
  {
   "cell_type": "code",
   "execution_count": 64,
   "id": "ce0e30a4-8907-4679-b0d6-a82b254e5b34",
   "metadata": {},
   "outputs": [],
   "source": [
    "# compute the accurracy of two arrays of same length\n",
    "actual = [5, 6, 1, 7, 3]\n",
    "predicted = [2.4, 1.5, 1.4, 2.7, 3.1]\n",
    "def ACCURACY(actual, predicted):\n",
    "  # find the lengths\n",
    "  n1 = len(actual)\n",
    "  n2 = len(predicted)\n",
    "  # check if the length of two arrays is same\n",
    "  if n1 != n2:\n",
    "    raise 'len(actual) != len(predicted)'\n",
    "  n = n1\n",
    "  # (actual == predicted) will generate an array of [True/False] where it's True if actual[i] = predicted[i]; False otherwise\n",
    "  # np.sum(actual == predicted) will return the count of True\n",
    "  # division by `n` will return the percent\n",
    "  return (np.sum(actual == predicted)/n)"
   ]
  },
  {
   "cell_type": "markdown",
   "id": "49ab8672",
   "metadata": {},
   "source": [
    "#### 3.(b) Apply your accuracy function to the columns “actual” and “predicted” in themushroom data.csv file and report your result. The columns in this data set indicate the mushroom is poisonous with a “p” and if it is edible with an “e”."
   ]
  },
  {
   "cell_type": "code",
   "execution_count": 65,
   "id": "c0635d58-7d12-4826-a007-f5c6985fa1b7",
   "metadata": {},
   "outputs": [
    {
     "name": "stdout",
     "output_type": "stream",
     "text": [
      "The accuracy is:  0.8471196454948301\n"
     ]
    }
   ],
   "source": [
    "#importing a labrary\n",
    "from sklearn.metrics import accuracy_score\n",
    "\n",
    "#read data columns of  the excel file\n",
    "floc = \"E:\\Bellevue\\Fall_2022\\DSC_320_Math for Data Science\\Week_1\\week1data\\mushroom.xlsx\"\n",
    "df11 = pd.read_excel(floc, usecols = ['actual'])\n",
    "df22 = pd.read_excel(floc, usecols = ['predicted'])\n",
    "\n",
    "#calculate accuracy\n",
    "accuracy = accuracy_score(df11, df22)\n",
    "print(\"The accuracy is: \", accuracy)\n"
   ]
  },
  {
   "cell_type": "markdown",
   "id": "94690366",
   "metadata": {},
   "source": [
    "#### 4.(a) Use the Python package matplotlib to plot this function."
   ]
  },
  {
   "cell_type": "code",
   "execution_count": 66,
   "id": "6de1bd6e-badb-463e-b303-cf17f50ef5b9",
   "metadata": {},
   "outputs": [
    {
     "data": {
      "text/plain": [
       "[<matplotlib.lines.Line2D at 0x209d4d90670>]"
      ]
     },
     "execution_count": 66,
     "metadata": {},
     "output_type": "execute_result"
    },
    {
     "data": {
      "image/png": "[encoded data removed]",
      "text/plain": [
       "<Figure size 432x288 with 1 Axes>"
      ]
     },
     "metadata": {
      "needs_background": "light"
     },
     "output_type": "display_data"
    }
   ],
   "source": [
    "# 4. computes the error\n",
    "import matplotlib.pyplot as plt\n",
    "\n",
    "def ERROR(p):\n",
    "  # TODO: correct the coefficients if not matching with problem\n",
    "  # the coefficients in the problem are not clear\n",
    "  return 0.005*np.power(p, 6) - 0.27*np.power(p, 5) + 5.908*np.power(p, 4) - 69.914*np.power(p, 3) + 449.17*np.power(p, 2) - 1499.7*np.power(p, 1) + 2028\n",
    "\n",
    "# 4a. plot the error\n",
    "xs = np.linspace(-10, 25)\n",
    "ys = ERROR(xs)\n",
    "plt.plot(xs, ys)"
   ]
  },
  {
   "cell_type": "markdown",
   "id": "dc85d329-8c60-4931-8843-2c7fe270fbb2",
   "metadata": {},
   "source": [
    "#### 4. (b)Use your graph to estimate the value of p that minimizes the error. Report your result."
   ]
  },
  {
   "cell_type": "code",
   "execution_count": null,
   "id": "fd5ce85e-108c-44ba-b6a0-4d7e35df5a85",
   "metadata": {},
   "outputs": [],
   "source": [
    "# From the graph  we can see that the minimum value of the function is attained somewhere around 18.5"
   ]
  },
  {
   "cell_type": "markdown",
   "id": "f667108e",
   "metadata": {},
   "source": [
    "#### 4. (c) Use your graph to estimate the minimum error. Report your result."
   ]
  },
  {
   "cell_type": "code",
   "execution_count": 63,
   "id": "26152d5a-dd2f-418e-bac4-6d49699ccd29",
   "metadata": {},
   "outputs": [
    {
     "name": "stdout",
     "output_type": "stream",
     "text": [
      "Actual Minimum: -7265.559984374955\n",
      "Predicted Minimum:  -7265.559984374955\n"
     ]
    }
   ],
   "source": [
    "# 4c. Minimum error\n",
    "actual_min = np.min(ys)\n",
    "min_val = ERROR(18.5)\n",
    "print('Actual Minimum: {}'.format(min_val))\n",
    "print(\"Predicted Minimum: \", val_at_18_5)"
   ]
  }
 ],
 "metadata": {
  "kernelspec": {
   "display_name": "Python 3 (ipykernel)",
   "language": "python",
   "name": "python3"
  },
  "language_info": {
   "codemirror_mode": {
    "name": "ipython",
    "version": 3
   },
   "file_extension": ".py",
   "mimetype": "text/x-python",
   "name": "python",
   "nbconvert_exporter": "python",
   "pygments_lexer": "ipython3",
   "version": "3.9.7"
  }
 },
 "nbformat": 4,
 "nbformat_minor": 5
}
