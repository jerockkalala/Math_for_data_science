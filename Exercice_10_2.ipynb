{
 "cells": [
  {
   "cell_type": "markdown",
   "source": [
    "### Title: Exercice 10.2\n",
    "### Author: Jerock Kalala\n",
    "### Date: November 6th 2022\n",
    "### Professor: Dr. Brett Werner\n",
    "### Statistics and Probability Theory"
   ],
   "metadata": {
    "collapsed": false,
    "pycharm": {
     "name": "#%% md\n"
    }
   }
  },
  {
   "cell_type": "markdown",
   "source": [
    "##### 1. Summarizing Data"
   ],
   "metadata": {
    "collapsed": false,
    "pycharm": {
     "name": "#%% md\n"
    }
   }
  },
  {
   "cell_type": "markdown",
   "source": [
    "In this exercise, you will be working with the file qb stats.csv. This file contains stats on NFL quarterbacks in the 2019 season. The data was obtained from https://www.footballdb.com/statistics/nfl/player-stats/passing/2019/regular-season. The data includes the following."
   ],
   "metadata": {
    "collapsed": false,
    "pycharm": {
     "name": "#%% md\n"
    }
   }
  },
  {
   "cell_type": "code",
   "execution_count": 17,
   "outputs": [
    {
     "data": {
      "text/plain": "             name team  games    att    cmp  comp_pct     yds  ypa    td  int  \\\n0  Ryan Tannehill  TEN   12.0  286.0  201.0      70.3  2742.0  9.6  22.0  6.0   \n1      Drew Brees   NO   11.0  378.0  281.0      74.3  2979.0  7.9  27.0  4.0   \n2   Lamar Jackson  BAL   15.0  401.0  265.0      66.1  3127.0  7.8  36.0  6.0   \n3    Kirk Cousins  MIN   15.0  444.0  307.0      69.1  3603.0  8.1  26.0  6.0   \n4  Russell Wilson  SEA   16.0  516.0  341.0      66.1  4110.0  8.0  31.0  5.0   \n\n   sack   loss  rating  \n0  31.0  212.0   117.5  \n1  12.0   89.0   116.3  \n2  23.0  106.0   113.3  \n3  28.0  206.0   107.4  \n4  48.0  319.0   106.3  ",
      "text/html": "<div>\n<style scoped>\n    .dataframe tbody tr th:only-of-type {\n        vertical-align: middle;\n    }\n\n    .dataframe tbody tr th {\n        vertical-align: top;\n    }\n\n    .dataframe thead th {\n        text-align: right;\n    }\n</style>\n<table border=\"1\" class=\"dataframe\">\n  <thead>\n    <tr style=\"text-align: right;\">\n      <th></th>\n      <th>name</th>\n      <th>team</th>\n      <th>games</th>\n      <th>att</th>\n      <th>cmp</th>\n      <th>comp_pct</th>\n      <th>yds</th>\n      <th>ypa</th>\n      <th>td</th>\n      <th>int</th>\n      <th>sack</th>\n      <th>loss</th>\n      <th>rating</th>\n    </tr>\n  </thead>\n  <tbody>\n    <tr>\n      <th>0</th>\n      <td>Ryan Tannehill</td>\n      <td>TEN</td>\n      <td>12.0</td>\n      <td>286.0</td>\n      <td>201.0</td>\n      <td>70.3</td>\n      <td>2742.0</td>\n      <td>9.6</td>\n      <td>22.0</td>\n      <td>6.0</td>\n      <td>31.0</td>\n      <td>212.0</td>\n      <td>117.5</td>\n    </tr>\n    <tr>\n      <th>1</th>\n      <td>Drew Brees</td>\n      <td>NO</td>\n      <td>11.0</td>\n      <td>378.0</td>\n      <td>281.0</td>\n      <td>74.3</td>\n      <td>2979.0</td>\n      <td>7.9</td>\n      <td>27.0</td>\n      <td>4.0</td>\n      <td>12.0</td>\n      <td>89.0</td>\n      <td>116.3</td>\n    </tr>\n    <tr>\n      <th>2</th>\n      <td>Lamar Jackson</td>\n      <td>BAL</td>\n      <td>15.0</td>\n      <td>401.0</td>\n      <td>265.0</td>\n      <td>66.1</td>\n      <td>3127.0</td>\n      <td>7.8</td>\n      <td>36.0</td>\n      <td>6.0</td>\n      <td>23.0</td>\n      <td>106.0</td>\n      <td>113.3</td>\n    </tr>\n    <tr>\n      <th>3</th>\n      <td>Kirk Cousins</td>\n      <td>MIN</td>\n      <td>15.0</td>\n      <td>444.0</td>\n      <td>307.0</td>\n      <td>69.1</td>\n      <td>3603.0</td>\n      <td>8.1</td>\n      <td>26.0</td>\n      <td>6.0</td>\n      <td>28.0</td>\n      <td>206.0</td>\n      <td>107.4</td>\n    </tr>\n    <tr>\n      <th>4</th>\n      <td>Russell Wilson</td>\n      <td>SEA</td>\n      <td>16.0</td>\n      <td>516.0</td>\n      <td>341.0</td>\n      <td>66.1</td>\n      <td>4110.0</td>\n      <td>8.0</td>\n      <td>31.0</td>\n      <td>5.0</td>\n      <td>48.0</td>\n      <td>319.0</td>\n      <td>106.3</td>\n    </tr>\n  </tbody>\n</table>\n</div>"
     },
     "execution_count": 17,
     "metadata": {},
     "output_type": "execute_result"
    }
   ],
   "source": [
    "import numpy as np\n",
    "import pandas as pd\n",
    "import matplotlib.pyplot as plt\n",
    "import plotly.express as px\n",
    "\n",
    "df = pd.read_csv(\"E:\\\\Bellevue\\\\Fall_2022\\\\DSC_320_Math for Data Science\\Week_10\\\\week10data\\\\qb_stats.csv\")\n",
    "df.head()"
   ],
   "metadata": {
    "collapsed": false,
    "pycharm": {
     "name": "#%%\n"
    }
   }
  },
  {
   "cell_type": "markdown",
   "source": [
    "Use Python code to answer the following questions.\n",
    "\n",
    "(a) Find the mean of each numerical column of data."
   ],
   "metadata": {
    "collapsed": false,
    "pycharm": {
     "name": "#%% md\n"
    }
   }
  },
  {
   "cell_type": "code",
   "execution_count": 6,
   "outputs": [
    {
     "name": "stderr",
     "output_type": "stream",
     "text": [
      "C:\\Users\\jeroc\\AppData\\Local\\Temp\\ipykernel_16976\\972437606.py:1: FutureWarning: Dropping of nuisance columns in DataFrame reductions (with 'numeric_only=None') is deprecated; in a future version this will raise TypeError.  Select only valid columns before calling the reduction.\n",
      "  df.mean()\n"
     ]
    },
    {
     "data": {
      "text/plain": "games         14.125000\natt          478.406250\ncmp          306.562500\ncomp_pct      64.296875\nyds         3515.062500\nypa            7.375000\ntd            22.375000\nint           10.343750\nsack          32.312500\nloss         217.093750\nrating        93.387500\ndtype: float64"
     },
     "execution_count": 6,
     "metadata": {},
     "output_type": "execute_result"
    }
   ],
   "source": [
    "df.mean()"
   ],
   "metadata": {
    "collapsed": false,
    "pycharm": {
     "name": "#%%\n"
    }
   }
  },
  {
   "cell_type": "markdown",
   "source": [
    "(b) Find the standard deviation of each numerical column of data."
   ],
   "metadata": {
    "collapsed": false,
    "pycharm": {
     "name": "#%% md\n"
    }
   }
  },
  {
   "cell_type": "code",
   "execution_count": 7,
   "outputs": [
    {
     "name": "stderr",
     "output_type": "stream",
     "text": [
      "C:\\Users\\jeroc\\AppData\\Local\\Temp\\ipykernel_16976\\3390915376.py:1: FutureWarning: Dropping of nuisance columns in DataFrame reductions (with 'numeric_only=None') is deprecated; in a future version this will raise TypeError.  Select only valid columns before calling the reduction.\n",
      "  df.std()\n"
     ]
    },
    {
     "data": {
      "text/plain": "games         2.406309\natt         110.360366\ncmp          68.929575\ncomp_pct      3.627537\nyds         852.437489\nypa           0.796768\ntd            6.256609\nint           5.839849\nsack         10.514008\nloss         70.786075\nrating       11.054725\ndtype: float64"
     },
     "execution_count": 7,
     "metadata": {},
     "output_type": "execute_result"
    }
   ],
   "source": [
    "df.std()"
   ],
   "metadata": {
    "collapsed": false,
    "pycharm": {
     "name": "#%%\n"
    }
   }
  },
  {
   "cell_type": "markdown",
   "source": [
    "(c) Create a histogram of the number of yards; label it appropriately."
   ],
   "metadata": {
    "collapsed": false,
    "pycharm": {
     "name": "#%% md\n"
    }
   }
  },
  {
   "cell_type": "code",
   "execution_count": 11,
   "outputs": [
    {
     "data": {
      "text/plain": "<Figure size 640x480 with 1 Axes>",
      "image/png": "[encoded data removed]"
     },
     "metadata": {},
     "output_type": "display_data"
    }
   ],
   "source": [
    "df.yds.plot(kind='hist', title='Histogram of number of yards')\n",
    "plt.xlabel('Number of Yards')\n",
    "plt.grid(\"True\")"
   ],
   "metadata": {
    "collapsed": false,
    "pycharm": {
     "name": "#%%\n"
    }
   }
  },
  {
   "cell_type": "markdown",
   "source": [
    "(d) Create a boxplot of the number of touchdowns. Identify any outliers."
   ],
   "metadata": {
    "collapsed": false,
    "pycharm": {
     "name": "#%% md\n"
    }
   }
  },
  {
   "cell_type": "code",
   "execution_count": 26,
   "outputs": [
    {
     "data": {
      "text/plain": "<Figure size 640x480 with 1 Axes>",
      "image/png": "[encoded data removed]"
     },
     "metadata": {},
     "output_type": "display_data"
    }
   ],
   "source": [
    "df.td.plot(kind='box', title='Boxplot of the number of touchdown')\n",
    "plt.ylabel('Number of Touchdown')\n",
    "plt.grid(\"True\")"
   ],
   "metadata": {
    "collapsed": false,
    "pycharm": {
     "name": "#%%\n"
    }
   }
  },
  {
   "cell_type": "markdown",
   "source": [
    ">> There is one outlier less than 10 touchdown which is: Joe Flacco DEN\t(6)\n"
   ],
   "metadata": {
    "collapsed": false,
    "pycharm": {
     "name": "#%% md\n"
    }
   }
  },
  {
   "cell_type": "markdown",
   "source": [
    "##### 2. Calculating Probabilities from Data"
   ],
   "metadata": {
    "collapsed": false,
    "pycharm": {
     "name": "#%% md\n"
    }
   }
  },
  {
   "cell_type": "markdown",
   "source": [
    "In this exercise, you will be working with the file survey data.csv. This data has a list of college students who were asked their hair color and eye color. Use Python code to answer the following questions."
   ],
   "metadata": {
    "collapsed": false,
    "pycharm": {
     "name": "#%% md\n"
    }
   }
  },
  {
   "cell_type": "code",
   "execution_count": 100,
   "outputs": [
    {
     "data": {
      "text/plain": "  hair_color eye_color\n0      brown     brown\n1      brown     brown\n2      brown      blue\n3      brown     green\n4      brown     brown",
      "text/html": "<div>\n<style scoped>\n    .dataframe tbody tr th:only-of-type {\n        vertical-align: middle;\n    }\n\n    .dataframe tbody tr th {\n        vertical-align: top;\n    }\n\n    .dataframe thead th {\n        text-align: right;\n    }\n</style>\n<table border=\"1\" class=\"dataframe\">\n  <thead>\n    <tr style=\"text-align: right;\">\n      <th></th>\n      <th>hair_color</th>\n      <th>eye_color</th>\n    </tr>\n  </thead>\n  <tbody>\n    <tr>\n      <th>0</th>\n      <td>brown</td>\n      <td>brown</td>\n    </tr>\n    <tr>\n      <th>1</th>\n      <td>brown</td>\n      <td>brown</td>\n    </tr>\n    <tr>\n      <th>2</th>\n      <td>brown</td>\n      <td>blue</td>\n    </tr>\n    <tr>\n      <th>3</th>\n      <td>brown</td>\n      <td>green</td>\n    </tr>\n    <tr>\n      <th>4</th>\n      <td>brown</td>\n      <td>brown</td>\n    </tr>\n  </tbody>\n</table>\n</div>"
     },
     "execution_count": 100,
     "metadata": {},
     "output_type": "execute_result"
    }
   ],
   "source": [
    "df1 = pd.read_csv(\"E:\\\\Bellevue\\\\Fall_2022\\\\DSC_320_Math for Data Science\\Week_10\\\\week10data\\\\survey_data.csv\")\n",
    "df1.head()\n",
    "#df1.shape[0]"
   ],
   "metadata": {
    "collapsed": false,
    "pycharm": {
     "name": "#%%\n"
    }
   }
  },
  {
   "cell_type": "markdown",
   "source": [
    "(a) Based off of this data, what is the probability a college student has brown hair?"
   ],
   "metadata": {
    "collapsed": false,
    "pycharm": {
     "name": "#%% md\n"
    }
   }
  },
  {
   "cell_type": "code",
   "execution_count": 76,
   "outputs": [
    {
     "name": "stdout",
     "output_type": "stream",
     "text": [
      "The probability a college student has brown hair is:  51.2346%\n"
     ]
    }
   ],
   "source": [
    "b_hair = (df1[df1['hair_color'] == 'brown']).shape[0]\n",
    "\n",
    "brown_h = b_hair/(df1.shape[0])\n",
    "print(\"The probability a college student has brown hair is: \", '{:.4%}'.format(brown_h))"
   ],
   "metadata": {
    "collapsed": false,
    "pycharm": {
     "name": "#%%\n"
    }
   }
  },
  {
   "cell_type": "markdown",
   "source": [
    "(b) Based off of this data, what is the probability a college student has blue eyes?"
   ],
   "metadata": {
    "collapsed": false,
    "pycharm": {
     "name": "#%% md\n"
    }
   }
  },
  {
   "cell_type": "code",
   "execution_count": 77,
   "outputs": [
    {
     "name": "stdout",
     "output_type": "stream",
     "text": [
      "The probability a college student has blue eyes is:  24.6914%\n"
     ]
    }
   ],
   "source": [
    "b_eyes = (df1[df1['eye_color'] == 'blue']).shape[0]\n",
    "\n",
    "blue_ey = b_eyes/(df1.shape[0])\n",
    "print(\"The probability a college student has blue eyes is: \", '{:.4%}'.format(blue_ey))"
   ],
   "metadata": {
    "collapsed": false,
    "pycharm": {
     "name": "#%%\n"
    }
   }
  },
  {
   "cell_type": "markdown",
   "source": [
    "(c) Based off of this data, what is the probability a college student has blue eyes given that they have brown hair?"
   ],
   "metadata": {
    "collapsed": false,
    "pycharm": {
     "name": "#%% md\n"
    }
   }
  },
  {
   "cell_type": "code",
   "execution_count": 78,
   "outputs": [
    {
     "name": "stdout",
     "output_type": "stream",
     "text": [
      "The probability a college student has blue eyes given that they have brown hair is:  21.6867%\n"
     ]
    }
   ],
   "source": [
    "bb = df1[(df1['hair_color']=='brown') & (df1['eye_color']=='blue')].shape[0]\n",
    "c = bb/b_hair\n",
    "print(\"The probability a college student has blue eyes given that they have brown hair is: \", '{:.4%}'.format(c))"
   ],
   "metadata": {
    "collapsed": false,
    "pycharm": {
     "name": "#%%\n"
    }
   }
  },
  {
   "cell_type": "markdown",
   "source": [
    "(d) Based off of this data, what is the probability a college student has brown hair given that they have blue eyes?"
   ],
   "metadata": {
    "collapsed": false,
    "pycharm": {
     "name": "#%% md\n"
    }
   }
  },
  {
   "cell_type": "code",
   "execution_count": 60,
   "outputs": [
    {
     "name": "stdout",
     "output_type": "stream",
     "text": [
      "The probability a college student has blue eyes given that they have brown hair given that they have blue eyes is:  45.0000%\n"
     ]
    }
   ],
   "source": [
    "bb = df1[(df1['hair_color']=='brown') & (df1['eye_color']=='blue')].shape[0]\n",
    "c = bb/b_eyes\n",
    "print(\"The probability a college student has blue eyes given that they have brown hair given that they have blue eyes is: \", '{:.4%}'.format(c))"
   ],
   "metadata": {
    "collapsed": false,
    "pycharm": {
     "name": "#%%\n"
    }
   }
  },
  {
   "cell_type": "markdown",
   "source": [
    "(e) Do your results above indicate that college students having brown hair and blue eyes are independent of one another? Explain."
   ],
   "metadata": {
    "collapsed": false,
    "pycharm": {
     "name": "#%% md\n"
    }
   }
  },
  {
   "cell_type": "markdown",
   "source": [
    "The answer is NO.\n",
    "We know that Events A and B are independent if: knowing whether A occured does not change the probability of B"
   ],
   "metadata": {
    "collapsed": false,
    "pycharm": {
     "name": "#%% md\n"
    }
   }
  },
  {
   "cell_type": "markdown",
   "source": [
    "(f) Create a bar graph of the hair color and eye color of this group of students. Label the graphs appropriately."
   ],
   "metadata": {
    "collapsed": false,
    "pycharm": {
     "name": "#%% md\n"
    }
   }
  },
  {
   "cell_type": "code",
   "execution_count": 112,
   "outputs": [
    {
     "data": {
      "text/plain": "<AxesSubplot:>"
     },
     "execution_count": 112,
     "metadata": {},
     "output_type": "execute_result"
    },
    {
     "data": {
      "text/plain": "<Figure size 640x480 with 1 Axes>",
      "image/png": "[encoded data removed]"
     },
     "metadata": {},
     "output_type": "display_data"
    }
   ],
   "source": [
    "df1['eye_color'].value_counts().plot(kind='bar')"
   ],
   "metadata": {
    "collapsed": false,
    "pycharm": {
     "name": "#%%\n"
    }
   }
  },
  {
   "cell_type": "code",
   "execution_count": 126,
   "outputs": [
    {
     "data": {
      "text/plain": "<AxesSubplot:>"
     },
     "execution_count": 126,
     "metadata": {},
     "output_type": "execute_result"
    },
    {
     "data": {
      "text/plain": "<Figure size 1000x300 with 2 Axes>",
      "image/png": "[encoded data removed]"
     },
     "metadata": {},
     "output_type": "display_data"
    }
   ],
   "source": [
    "\n",
    "fig, (ax1, ax2) = plt.subplots(1, 2, figsize=(10, 3))\n",
    "\n",
    "df1['eye_color'].value_counts().plot(kind='bar')\n",
    "df1['hair_color'].value_counts().plot(kind='bar')"
   ],
   "metadata": {
    "collapsed": false,
    "pycharm": {
     "name": "#%%\n"
    }
   }
  },
  {
   "cell_type": "code",
   "execution_count": null,
   "outputs": [],
   "source": [],
   "metadata": {
    "collapsed": false,
    "pycharm": {
     "name": "#%%\n"
    }
   }
  }
 ],
 "metadata": {
  "kernelspec": {
   "display_name": "Python 3",
   "language": "python",
   "name": "python3"
  },
  "language_info": {
   "codemirror_mode": {
    "name": "ipython",
    "version": 2
   },
   "file_extension": ".py",
   "mimetype": "text/x-python",
   "name": "python",
   "nbconvert_exporter": "python",
   "pygments_lexer": "ipython2",
   "version": "2.7.6"
  }
 },
 "nbformat": 4,
 "nbformat_minor": 0
}