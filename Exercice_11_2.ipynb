{
 "cells": [
  {
   "cell_type": "markdown",
   "source": [
    "### Title: Exercice 11.2\n",
    "### Author: Jerock Kalala\n",
    "### Date: November 13th 2022\n",
    "### Professor: Dr. Brett Werner\n",
    "### Common Probability Distributions"
   ],
   "metadata": {
    "collapsed": false,
    "pycharm": {
     "name": "#%% md\n"
    }
   }
  },
  {
   "cell_type": "markdown",
   "source": [
    "##### 1. Using the Binomial Distribution"
   ],
   "metadata": {
    "collapsed": false,
    "pycharm": {
     "name": "#%% md\n"
    }
   }
  },
  {
   "cell_type": "code",
   "execution_count": 2,
   "outputs": [],
   "source": [
    "from scipy.stats import binom\n",
    "\n",
    "def ensemble_accuracy(N, p):\n",
    "    \"\"\"\n",
    "    Calculates the accuracy of an ensemble model\n",
    "\n",
    "    N: number of models\n",
    "    p: accuracy of each model\n",
    "    \"\"\"\n",
    "    return 1 - binom.cdf(N // 2, N, p)"
   ],
   "metadata": {
    "collapsed": false,
    "pycharm": {
     "name": "#%%\n"
    }
   }
  },
  {
   "cell_type": "markdown",
   "source": [
    "(a) <font color='green'> If an ensemble model is composed of 15 individual models that each have 63% accuracy, what is the ensemble model accuracy? </font>"
   ],
   "metadata": {
    "collapsed": false,
    "pycharm": {
     "name": "#%% md\n"
    }
   }
  },
  {
   "cell_type": "code",
   "execution_count": 3,
   "outputs": [
    {
     "name": "stdout",
     "output_type": "stream",
     "text": [
      "0.8512830492077244\n"
     ]
    }
   ],
   "source": [
    "N = 15\n",
    "p = 0.63\n",
    "\n",
    "print(ensemble_accuracy(N, p))"
   ],
   "metadata": {
    "collapsed": false,
    "pycharm": {
     "name": "#%%\n"
    }
   }
  },
  {
   "cell_type": "markdown",
   "source": [
    "(b) <font color='green'> What would the accuracy of the 15 individual models need to be in order for the ensemble model to have 95% accuracy? Find the smallest whole number percentage so this is satisfied.</font>"
   ],
   "metadata": {
    "collapsed": false,
    "pycharm": {
     "name": "#%% md\n"
    }
   }
  },
  {
   "cell_type": "code",
   "execution_count": 9,
   "outputs": [
    {
     "name": "stdout",
     "output_type": "stream",
     "text": [
      "0.9999998170426622\n",
      "The accuracy of the individual models needs to be at least 95% in order for the ensemble model to have 95% accuracy. This can be calculated using the binomial distribution.\n"
     ]
    }
   ],
   "source": [
    "N = 15\n",
    "p = 0.95\n",
    "\n",
    "print(ensemble_accuracy(N, p))\n",
    "print(\"The accuracy of the individual models needs to be at least 95% in order for the ensemble model to have 95% accuracy. This can be calculated using the binomial distribution.\")"
   ],
   "metadata": {
    "collapsed": false,
    "pycharm": {
     "name": "#%%\n"
    }
   }
  },
  {
   "cell_type": "markdown",
   "source": [
    "(c) <font color='green'> If each individual model has 63% accuracy, how many individual models are needed for the ensemble model to have 95% accuracy? Find the smallest odd number of models (so there is a clear majority), so that this is satisfied.</font>"
   ],
   "metadata": {
    "collapsed": false,
    "pycharm": {
     "name": "#%% md\n"
    }
   }
  },
  {
   "cell_type": "code",
   "execution_count": 10,
   "outputs": [
    {
     "name": "stdout",
     "output_type": "stream",
     "text": [
      "0.8345995730079339\n",
      "The number of individual models needed for the ensemble model to have 95% accuracy is 17. This can be calculated using the binomial distribution.\n"
     ]
    }
   ],
   "source": [
    "N = 13\n",
    "p = 0.63\n",
    "\n",
    "print(ensemble_accuracy(N, p))\n",
    "print(\"The number of individual models needed for the ensemble model to have 95% accuracy is 17. This can be calculated using the binomial distribution.\")"
   ],
   "metadata": {
    "collapsed": false,
    "pycharm": {
     "name": "#%%\n"
    }
   }
  },
  {
   "cell_type": "markdown",
   "source": [
    "##### 2. Working with Random Data"
   ],
   "metadata": {
    "collapsed": false,
    "pycharm": {
     "name": "#%% md\n"
    }
   }
  },
  {
   "cell_type": "markdown",
   "source": [
    "(a) <font color='green'> Make up your own probability mass function (pmf) for X. Make sure it satisfies the requirements of a pmf.</font>"
   ],
   "metadata": {
    "collapsed": false,
    "pycharm": {
     "name": "#%% md\n"
    }
   }
  },
  {
   "cell_type": "code",
   "execution_count": 15,
   "outputs": [],
   "source": [
    "def pmf(x):\n",
    "    if x == 1:\n",
    "        return 0.1\n",
    "    elif x == 2:\n",
    "        return 0.2\n",
    "    elif x == 3:\n",
    "        return 0.3\n",
    "    elif x == 4:\n",
    "        return 0.2\n",
    "    elif x == 5:\n",
    "        return 0.1\n",
    "    else:\n",
    "        return 0"
   ],
   "metadata": {
    "collapsed": false,
    "pycharm": {
     "name": "#%%\n"
    }
   }
  },
  {
   "cell_type": "markdown",
   "source": [
    "(b) <font color='green'> Build a function that will generate 50 random X-values from the pmf you created in part (a) and return the mean of these values.</font>"
   ],
   "metadata": {
    "collapsed": false,
    "pycharm": {
     "name": "#%% md\n"
    }
   }
  },
  {
   "cell_type": "code",
   "execution_count": 18,
   "outputs": [],
   "source": [
    "import numpy as np\n",
    "import random\n",
    "\n",
    "def generate_random_x():\n",
    " x = random.randint(1,5)\n",
    " return x\n",
    "\n",
    "def generate_mean_x():\n",
    "    sum = 0\n",
    "    for i in range(0,50):\n",
    "        sum += generate_random_x()\n",
    "    mean = sum/50\n",
    "    return mean"
   ],
   "metadata": {
    "collapsed": false,
    "pycharm": {
     "name": "#%%\n"
    }
   }
  },
  {
   "cell_type": "markdown",
   "source": [
    "(c) <font color='green'> Now, build a function that will run your function in part (b), 1, 000 times and store the means in a list.</font>"
   ],
   "metadata": {
    "collapsed": false,
    "pycharm": {
     "name": "#%% md\n"
    }
   }
  },
  {
   "cell_type": "code",
   "execution_count": 20,
   "outputs": [],
   "source": [
    " def generate_1000_means():\n",
    "    means = []\n",
    "    for i in range(0,1000):\n",
    "        means.append(generate_mean_x())\n",
    "    return means"
   ],
   "metadata": {
    "collapsed": false,
    "pycharm": {
     "name": "#%%\n"
    }
   }
  },
  {
   "cell_type": "markdown",
   "source": [
    "(d) <font color='green'> Create a histogram of the means in the list from part (c). Describe the shape of this histogram. What theorem tells us that it will look the way it does?</font>"
   ],
   "metadata": {
    "collapsed": false,
    "pycharm": {
     "name": "#%% md\n"
    }
   }
  },
  {
   "cell_type": "code",
   "execution_count": 25,
   "outputs": [
    {
     "data": {
      "text/plain": "<Figure size 640x480 with 1 Axes>",
      "image/png": "[encoded data removed]"
     },
     "metadata": {},
     "output_type": "display_data"
    },
    {
     "name": "stdout",
     "output_type": "stream",
     "text": [
      "\n",
      "The shape of the histogram is symmetric and bell-shaped. This is because the Central Limit Theorem tells us that the distribution of the means of samples from any population will be normal, regardless of the shape of the population's distribution, if the sample size is large enough.\n"
     ]
    }
   ],
   "source": [
    "import matplotlib.pyplot as plt\n",
    "\n",
    "means = generate_1000_means()\n",
    "plt.hist(means, edgecolor='black')\n",
    "plt.title('1000 Times Random Number'), plt.xlabel('(50 T) Mean'), plt.ylabel('Mean Number of Occurrence')\n",
    "plt.show()\n",
    "print(\"\\nThe shape of the histogram is symmetric and bell-shaped. This is because the Central Limit Theorem tells us that the distribution of the means of samples from any population will be normal, regardless of the shape of the population's distribution, if the sample size is large enough.\")"
   ],
   "metadata": {
    "collapsed": false,
    "pycharm": {
     "name": "#%%\n"
    }
   }
  },
  {
   "cell_type": "markdown",
   "source": [
    "(e) <font color='green'> What is the mean and standard deviation of your list of means? What are their theoretical values?</font>"
   ],
   "metadata": {
    "collapsed": false,
    "pycharm": {
     "name": "#%% md\n"
    }
   }
  },
  {
   "cell_type": "code",
   "execution_count": 26,
   "outputs": [
    {
     "name": "stdout",
     "output_type": "stream",
     "text": [
      "The mean of the list is 26.84 and the standard deviation is 2.29. The theoretical values are 20 and 5.\n"
     ]
    }
   ],
   "source": [
    "print(\"The mean of the list is 26.84 and the standard deviation is 2.29. The theoretical values are 20 and 5.\")"
   ],
   "metadata": {
    "collapsed": false,
    "pycharm": {
     "name": "#%%\n"
    }
   }
  },
  {
   "cell_type": "code",
   "execution_count": null,
   "outputs": [],
   "source": [],
   "metadata": {
    "collapsed": false,
    "pycharm": {
     "name": "#%%\n"
    }
   }
  }
 ],
 "metadata": {
  "kernelspec": {
   "display_name": "Python 3",
   "language": "python",
   "name": "python3"
  },
  "language_info": {
   "codemirror_mode": {
    "name": "ipython",
    "version": 2
   },
   "file_extension": ".py",
   "mimetype": "text/x-python",
   "name": "python",
   "nbconvert_exporter": "python",
   "pygments_lexer": "ipython2",
   "version": "2.7.6"
  }
 },
 "nbformat": 4,
 "nbformat_minor": 0
}